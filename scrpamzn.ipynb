{
 "cells": [
  {
   "cell_type": "code",
   "execution_count": 1,
   "id": "1d17fa71",
   "metadata": {},
   "outputs": [],
   "source": [
    "import requests"
   ]
  },
  {
   "cell_type": "code",
   "execution_count": 2,
   "id": "ba969c53",
   "metadata": {},
   "outputs": [],
   "source": [
    "URL = \"https://www.amazon.ca/Womens-Dresses-XL-Clothing/s?rh=n%3A10287502011%2Cp_n_size_browse-vebin%3A10379652011\""
   ]
  },
  {
   "cell_type": "code",
   "execution_count": 3,
   "id": "4c2d1ac6",
   "metadata": {},
   "outputs": [],
   "source": [
    "page = requests.get(URL)"
   ]
  },
  {
   "cell_type": "code",
   "execution_count": 4,
   "id": "57993463",
   "metadata": {},
   "outputs": [
    {
     "name": "stdout",
     "output_type": "stream",
     "text": [
      "<!doctype html><html><head><meta charset=\"utf-8\"><meta http-equiv=\"x-ua-compatible\" content=\"ie=edge\"><meta name=\"viewport\" content=\"width=device-width, initial-scale=1, shrink-to-fit=no\"><title>Amazon.ca Something Went Wrong / Quelque chose s&#39;est mal passÃ©</title><style>html,body{padding:0;margin:0}img{border:0}#a,#b{background:#232f3e;padding:11px;height:35px}#c{position:absolute;left:22px;top:12px}#e{position:relative;max-width:800px;padding:0 40px 0 171px}#f,#g{height:35px;border:0;font-size:1em}#f{width:100%;margin:0;padding:0 10px;border-radius:4px 0 0 4px}#g{cursor:pointer;background:#febd69;font-weight:bold;border-radius:0 4px 4px 0;-webkit-appearance:none;position:absolute;top:0;right:0;padding:0 12px}@media(max-width:500px){#e{padding-left:0}#b{padding:55px 10px 10px}#c{left:6px}}#h{text-align:center;margin:30px 0}#h img{max-width:90%}#d{display:none}#d[src]{display:inline}</style></head><body><form id=\"b\" accept-charset=\"utf-8\" action=\"/s\" method=\"GET\" role=\"search\"><a href=\"/\"><img id=\"c\" src=\"https://images-na.ssl-images-amazon.com/images/G/15/error/logo._TTD_.png\" alt=\"Amazon.ca\"></a><div id=\"e\"><input id=\"f\" name=\"field-keywords\" placeholder=\"Search / Rechercher\"><input id=\"g\" type=\"submit\" value=\"Go / Aller\"></div></form><div id=\"h\"><div><a href=\"/\"><img src=\"https://images-na.ssl-images-amazon.com/images/G/15/error/500-title._TTD_.png\" alt=\"Sorry! Something went wrong. Please go back and try again or go to Amazon.ca&#39;s home page. Nous sommes dÃ©solÃ©s! Une erreur sâest produite. Veuillez sâil vous plaÃ®t retourner sur la page prÃ©cÃ©dente ou accÃ©der Ã  la page dâaccueil dâAmazon.ca.\"></a></div><img id=\"d\" alt=\"Dogs of Amazon / Chiens d&#39;Amazon\"><script>document.getElementById(\"d\").src=\"https://images-na.ssl-images-amazon.com/images/G/15/error/\"+(Math.floor(Math.random()*200)+1)+\"._TTD_.jpg\";</script></div></body></html>\n"
     ]
    }
   ],
   "source": [
    "print(page.text)"
   ]
  },
  {
   "cell_type": "code",
   "execution_count": null,
   "id": "181a5c6e",
   "metadata": {},
   "outputs": [],
   "source": []
  }
 ],
 "metadata": {
  "kernelspec": {
   "display_name": "Python 3",
   "language": "python",
   "name": "python3"
  },
  "language_info": {
   "codemirror_mode": {
    "name": "ipython",
    "version": 3
   },
   "file_extension": ".py",
   "mimetype": "text/x-python",
   "name": "python",
   "nbconvert_exporter": "python",
   "pygments_lexer": "ipython3",
   "version": "3.8.5"
  }
 },
 "nbformat": 4,
 "nbformat_minor": 5
}
